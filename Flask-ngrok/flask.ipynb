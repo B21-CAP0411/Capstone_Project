{
 "cells": [
  {
   "cell_type": "code",
   "execution_count": 1,
   "metadata": {
    "colab": {
     "base_uri": "https://localhost:8080/"
    },
    "id": "JsvpOkWvcuOp",
    "outputId": "7272430c-65a4-4608-f49c-673efe5bf265"
   },
   "outputs": [
    {
     "name": "stdout",
     "output_type": "stream",
     "text": [
      "Collecting flask-ngrok\n",
      "  Downloading flask_ngrok-0.0.25-py3-none-any.whl (3.1 kB)\n",
      "Requirement already satisfied: requests in c:\\users\\lenovo\\anaconda3\\envs\\tf\\lib\\site-packages (from flask-ngrok) (2.25.1)\n",
      "Requirement already satisfied: Flask>=0.8 in c:\\users\\lenovo\\anaconda3\\envs\\tf\\lib\\site-packages (from flask-ngrok) (1.1.2)\n",
      "Requirement already satisfied: itsdangerous>=0.24 in c:\\users\\lenovo\\anaconda3\\envs\\tf\\lib\\site-packages (from Flask>=0.8->flask-ngrok) (2.0.1)\n",
      "Requirement already satisfied: click>=5.1 in c:\\users\\lenovo\\anaconda3\\envs\\tf\\lib\\site-packages (from Flask>=0.8->flask-ngrok) (8.0.1)\n",
      "Requirement already satisfied: Jinja2>=2.10.1 in c:\\users\\lenovo\\anaconda3\\envs\\tf\\lib\\site-packages (from Flask>=0.8->flask-ngrok) (3.0.0)\n",
      "Requirement already satisfied: Werkzeug>=0.15 in c:\\users\\lenovo\\anaconda3\\envs\\tf\\lib\\site-packages (from Flask>=0.8->flask-ngrok) (1.0.1)\n",
      "Requirement already satisfied: colorama in c:\\users\\lenovo\\anaconda3\\envs\\tf\\lib\\site-packages (from click>=5.1->Flask>=0.8->flask-ngrok) (0.4.4)\n",
      "Requirement already satisfied: MarkupSafe>=2.0.0rc2 in c:\\users\\lenovo\\anaconda3\\envs\\tf\\lib\\site-packages (from Jinja2>=2.10.1->Flask>=0.8->flask-ngrok) (2.0.1)\n",
      "Requirement already satisfied: chardet<5,>=3.0.2 in c:\\users\\lenovo\\anaconda3\\envs\\tf\\lib\\site-packages (from requests->flask-ngrok) (3.0.4)\n",
      "Requirement already satisfied: certifi>=2017.4.17 in c:\\users\\lenovo\\anaconda3\\envs\\tf\\lib\\site-packages (from requests->flask-ngrok) (2021.5.30)\n",
      "Requirement already satisfied: urllib3<1.27,>=1.21.1 in c:\\users\\lenovo\\anaconda3\\envs\\tf\\lib\\site-packages (from requests->flask-ngrok) (1.26.4)\n",
      "Requirement already satisfied: idna<3,>=2.5 in c:\\users\\lenovo\\anaconda3\\envs\\tf\\lib\\site-packages (from requests->flask-ngrok) (2.10)\n",
      "Installing collected packages: flask-ngrok\n",
      "Successfully installed flask-ngrok-0.0.25\n"
     ]
    }
   ],
   "source": [
    "!pip install flask-ngrok"
   ]
  },
  {
   "cell_type": "code",
   "execution_count": 2,
   "metadata": {
    "colab": {
     "base_uri": "https://localhost:8080/"
    },
    "id": "_d_cgLxOcccF",
    "outputId": "f3391ddd-5bb0-4259-e717-a418d4a0a430"
   },
   "outputs": [],
   "source": [
    "import flask\n",
    "from flask_ngrok import run_with_ngrok\n",
    "import io\n",
    "import string\n",
    "import time\n",
    "import os\n",
    "import numpy as np\n",
    "import joblib\n",
    "import tensorflow as tf\n",
    "from sklearn.preprocessing import StandardScaler\n",
    "from flask import Flask, jsonify, request\n",
    "\n",
    "\n",
    "model_d = tf.keras.models.load_model('model_diabetes.h5')\n",
    "model_h = tf.keras.models.load_model('model_heart.h5')\n",
    "model_s = tf.keras.models.load_model('model_stroke.h5')\n",
    "ss_d = joblib.load('ss_d.bin')\n",
    "ss_h = joblib.load('ss_h.bin')\n",
    "ss_s = joblib.load('ss_s.bin')\n",
    "\n",
    "def prepare_d(datas):\n",
    "    datas = [datas]\n",
    "    datas = ss_d.transform(datas)\n",
    "    return datas\n",
    "def prepare_h(datas):\n",
    "    datas = [datas]\n",
    "    datas = ss_h.transform(datas)\n",
    "    return datas\n",
    "def prepare_s(datas):\n",
    "    datas = [datas]\n",
    "    datas = ss_s.transform(datas)\n",
    "    return datas\n",
    "\n",
    "\n",
    "def predict_diabetes(datas):\n",
    "    return 1 if model_d.predict(datas)[0][0] > 0.5 else 0\n",
    "def predict_heart(datas):\n",
    "    return 1 if model_h.predict(datas)[0][0] > 0.5 else 0\n",
    "def predict_stroke(datas):\n",
    "    return 1 if model_s.predict(datas)[0][0] > 0.5 else 0\n",
    "\n",
    "\n",
    "app = Flask(__name__)\n",
    "run_with_ngrok(app)\n",
    "\n",
    "@app.route('/predict', methods=['POST'])\n",
    "def prediction():\n",
    "    \n",
    "    data_d = prepare_d(request.form.getlist('diabetes'))\n",
    "    data_h = prepare_h(request.form.getlist('heart'))\n",
    "    data_s = prepare_s(request.form.getlist('stroke'))\n",
    "    return jsonify({\n",
    "        \"prediction_diabetes\":predict_diabetes(data_d),\n",
    "        \"prediction_heart\":predict_heart(data_h),\n",
    "        \"prediction_stroke\":predict_stroke(data_s)\n",
    "    })\n",
    "    \n",
    "\n",
    "@app.route('/', methods=['GET'])\n",
    "def index():\n",
    "    return 'Machine Learning Inference'\n",
    "\n"
   ]
  },
  {
   "cell_type": "code",
   "execution_count": null,
   "metadata": {
    "colab": {
     "base_uri": "https://localhost:8080/"
    },
    "id": "cfbFUyllctDb",
    "outputId": "302307e0-2517-461a-d415-4a92b7137a93"
   },
   "outputs": [
    {
     "name": "stdout",
     "output_type": "stream",
     "text": [
      " * Serving Flask app \"__main__\" (lazy loading)\n",
      " * Environment: production\n",
      "\u001b[31m   WARNING: This is a development server. Do not use it in a production deployment.\u001b[0m\n",
      "\u001b[2m   Use a production WSGI server instead.\u001b[0m\n",
      " * Debug mode: off\n"
     ]
    },
    {
     "name": "stderr",
     "output_type": "stream",
     "text": [
      " * Running on http://127.0.0.1:5000/ (Press CTRL+C to quit)\n"
     ]
    }
   ],
   "source": [
    "app.run()"
   ]
  },
  {
   "cell_type": "code",
   "execution_count": null,
   "metadata": {
    "id": "KyiekhTO8TSL"
   },
   "outputs": [],
   "source": []
  }
 ],
 "metadata": {
  "colab": {
   "name": "flask.ipynb",
   "provenance": []
  },
  "kernelspec": {
   "display_name": "Python 3",
   "language": "python",
   "name": "python3"
  },
  "language_info": {
   "codemirror_mode": {
    "name": "ipython",
    "version": 3
   },
   "file_extension": ".py",
   "mimetype": "text/x-python",
   "name": "python",
   "nbconvert_exporter": "python",
   "pygments_lexer": "ipython3",
   "version": "3.8.10"
  }
 },
 "nbformat": 4,
 "nbformat_minor": 1
}
