{
  "nbformat": 4,
  "nbformat_minor": 0,
  "metadata": {
    "colab": {
      "name": "try.ipynb",
      "provenance": []
    },
    "kernelspec": {
      "name": "python3",
      "display_name": "Python 3"
    },
    "language_info": {
      "name": "python"
    }
  },
  "cells": [
    {
      "cell_type": "code",
      "metadata": {
        "colab": {
          "base_uri": "https://localhost:8080/"
        },
        "id": "A2Jm05eh8dh2",
        "outputId": "dd1525fc-a034-42ec-dea1-1ffd06feefc0"
      },
      "source": [
        "import requests\n",
        "\n",
        "resp = requests.post(\"http://a96b98081400.ngrok.io/predict\", data={\"diabetes\": [1, 120, 90, 27, 149, 33.4, 0.393, 42], \"heart\": [54,1,0,140,239,0,1,160,0,1.2,2,0,2], \"stroke\": [0,68,0,1,1,1,0,200.69,36.6,0]})\n",
        "\n",
        "print(resp.json())"
      ],
      "execution_count": 2,
      "outputs": [
        {
          "output_type": "stream",
          "text": [
            "{'prediction_diabetes': 1, 'prediction_heart': 1, 'prediction_stroke': 1}\n"
          ],
          "name": "stdout"
        }
      ]
    }
  ]
}